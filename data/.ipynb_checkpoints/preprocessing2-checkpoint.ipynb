{
 "cells": [
  {
   "cell_type": "code",
   "execution_count": 74,
   "id": "c3816b63",
   "metadata": {},
   "outputs": [],
   "source": [
    "import pandas as pd\n",
    "import sklearn as sk\n",
    "import geopy.distance\n",
    "from sklearn.cluster import KMeans\n",
    "import numpy as np"
   ]
  },
  {
   "cell_type": "code",
   "execution_count": 3,
   "id": "a6d24859",
   "metadata": {},
   "outputs": [],
   "source": [
    "trips_df = pd.read_csv(\"citibike-trips.csv\")"
   ]
  },
  {
   "cell_type": "code",
   "execution_count": 4,
   "id": "eec34cca",
   "metadata": {},
   "outputs": [
    {
     "data": {
      "text/html": [
       "<div>\n",
       "<style scoped>\n",
       "    .dataframe tbody tr th:only-of-type {\n",
       "        vertical-align: middle;\n",
       "    }\n",
       "\n",
       "    .dataframe tbody tr th {\n",
       "        vertical-align: top;\n",
       "    }\n",
       "\n",
       "    .dataframe thead th {\n",
       "        text-align: right;\n",
       "    }\n",
       "</style>\n",
       "<table border=\"1\" class=\"dataframe\">\n",
       "  <thead>\n",
       "    <tr style=\"text-align: right;\">\n",
       "      <th></th>\n",
       "      <th>tripduration</th>\n",
       "      <th>starttime</th>\n",
       "      <th>stoptime</th>\n",
       "      <th>start_station_id</th>\n",
       "      <th>start_station_name</th>\n",
       "      <th>start_station_latitude</th>\n",
       "      <th>start_station_longitude</th>\n",
       "      <th>end_station_id</th>\n",
       "      <th>end_station_name</th>\n",
       "      <th>end_station_latitude</th>\n",
       "      <th>end_station_longitude</th>\n",
       "      <th>bikeid</th>\n",
       "      <th>usertype</th>\n",
       "      <th>birth_year</th>\n",
       "      <th>gender</th>\n",
       "      <th>customer_plan</th>\n",
       "    </tr>\n",
       "  </thead>\n",
       "  <tbody>\n",
       "    <tr>\n",
       "      <th>0</th>\n",
       "      <td>2319</td>\n",
       "      <td>2016-03-09 13:08:21</td>\n",
       "      <td>2016-03-09 13:47:01</td>\n",
       "      <td>520</td>\n",
       "      <td>W 52 St &amp; 5 Ave</td>\n",
       "      <td>40.759923</td>\n",
       "      <td>-73.976485</td>\n",
       "      <td>363</td>\n",
       "      <td>West Thames St</td>\n",
       "      <td>40.708347</td>\n",
       "      <td>-74.017134</td>\n",
       "      <td>23062</td>\n",
       "      <td>Subscriber</td>\n",
       "      <td>1972.0</td>\n",
       "      <td>male</td>\n",
       "      <td>NaN</td>\n",
       "    </tr>\n",
       "    <tr>\n",
       "      <th>1</th>\n",
       "      <td>313</td>\n",
       "      <td>2015-07-09 15:42:30</td>\n",
       "      <td>2015-07-09 15:47:44</td>\n",
       "      <td>520</td>\n",
       "      <td>W 52 St &amp; 5 Ave</td>\n",
       "      <td>40.759923</td>\n",
       "      <td>-73.976485</td>\n",
       "      <td>493</td>\n",
       "      <td>W 45 St &amp; 6 Ave</td>\n",
       "      <td>40.756800</td>\n",
       "      <td>-73.982912</td>\n",
       "      <td>16909</td>\n",
       "      <td>Subscriber</td>\n",
       "      <td>1968.0</td>\n",
       "      <td>female</td>\n",
       "      <td>NaN</td>\n",
       "    </tr>\n",
       "    <tr>\n",
       "      <th>2</th>\n",
       "      <td>798</td>\n",
       "      <td>2017-04-20 18:43:59</td>\n",
       "      <td>2017-04-20 18:57:17</td>\n",
       "      <td>520</td>\n",
       "      <td>W 52 St &amp; 5 Ave</td>\n",
       "      <td>40.759923</td>\n",
       "      <td>-73.976485</td>\n",
       "      <td>3258</td>\n",
       "      <td>W 27 St &amp; 10 Ave</td>\n",
       "      <td>40.750182</td>\n",
       "      <td>-74.002184</td>\n",
       "      <td>15555</td>\n",
       "      <td>Subscriber</td>\n",
       "      <td>1991.0</td>\n",
       "      <td>male</td>\n",
       "      <td>NaN</td>\n",
       "    </tr>\n",
       "    <tr>\n",
       "      <th>3</th>\n",
       "      <td>3100</td>\n",
       "      <td>2017-04-23 15:23:46</td>\n",
       "      <td>2017-04-23 16:15:26</td>\n",
       "      <td>520</td>\n",
       "      <td>W 52 St &amp; 5 Ave</td>\n",
       "      <td>40.759923</td>\n",
       "      <td>-73.976485</td>\n",
       "      <td>281</td>\n",
       "      <td>Grand Army Plaza &amp; Central Park S</td>\n",
       "      <td>40.764397</td>\n",
       "      <td>-73.973715</td>\n",
       "      <td>20648</td>\n",
       "      <td>Customer</td>\n",
       "      <td>NaN</td>\n",
       "      <td>unknown</td>\n",
       "      <td>NaN</td>\n",
       "    </tr>\n",
       "    <tr>\n",
       "      <th>4</th>\n",
       "      <td>906</td>\n",
       "      <td>2016-01-11 18:32:33</td>\n",
       "      <td>2016-01-11 18:47:39</td>\n",
       "      <td>520</td>\n",
       "      <td>W 52 St &amp; 5 Ave</td>\n",
       "      <td>40.759923</td>\n",
       "      <td>-73.976485</td>\n",
       "      <td>3162</td>\n",
       "      <td>W 78 St &amp; Broadway</td>\n",
       "      <td>40.783400</td>\n",
       "      <td>-73.980931</td>\n",
       "      <td>15614</td>\n",
       "      <td>Subscriber</td>\n",
       "      <td>1961.0</td>\n",
       "      <td>male</td>\n",
       "      <td>NaN</td>\n",
       "    </tr>\n",
       "  </tbody>\n",
       "</table>\n",
       "</div>"
      ],
      "text/plain": [
       "   tripduration            starttime             stoptime  start_station_id  \\\n",
       "0          2319  2016-03-09 13:08:21  2016-03-09 13:47:01               520   \n",
       "1           313  2015-07-09 15:42:30  2015-07-09 15:47:44               520   \n",
       "2           798  2017-04-20 18:43:59  2017-04-20 18:57:17               520   \n",
       "3          3100  2017-04-23 15:23:46  2017-04-23 16:15:26               520   \n",
       "4           906  2016-01-11 18:32:33  2016-01-11 18:47:39               520   \n",
       "\n",
       "  start_station_name  start_station_latitude  start_station_longitude  \\\n",
       "0    W 52 St & 5 Ave               40.759923               -73.976485   \n",
       "1    W 52 St & 5 Ave               40.759923               -73.976485   \n",
       "2    W 52 St & 5 Ave               40.759923               -73.976485   \n",
       "3    W 52 St & 5 Ave               40.759923               -73.976485   \n",
       "4    W 52 St & 5 Ave               40.759923               -73.976485   \n",
       "\n",
       "   end_station_id                   end_station_name  end_station_latitude  \\\n",
       "0             363                     West Thames St             40.708347   \n",
       "1             493                    W 45 St & 6 Ave             40.756800   \n",
       "2            3258                   W 27 St & 10 Ave             40.750182   \n",
       "3             281  Grand Army Plaza & Central Park S             40.764397   \n",
       "4            3162                 W 78 St & Broadway             40.783400   \n",
       "\n",
       "   end_station_longitude  bikeid    usertype  birth_year   gender  \\\n",
       "0             -74.017134   23062  Subscriber      1972.0     male   \n",
       "1             -73.982912   16909  Subscriber      1968.0   female   \n",
       "2             -74.002184   15555  Subscriber      1991.0     male   \n",
       "3             -73.973715   20648    Customer         NaN  unknown   \n",
       "4             -73.980931   15614  Subscriber      1961.0     male   \n",
       "\n",
       "   customer_plan  \n",
       "0            NaN  \n",
       "1            NaN  \n",
       "2            NaN  \n",
       "3            NaN  \n",
       "4            NaN  "
      ]
     },
     "execution_count": 4,
     "metadata": {},
     "output_type": "execute_result"
    }
   ],
   "source": [
    "trips_df.head()"
   ]
  },
  {
   "cell_type": "code",
   "execution_count": 5,
   "id": "f7130134",
   "metadata": {},
   "outputs": [
    {
     "data": {
      "text/plain": [
       "False    417581\n",
       "True      55975\n",
       "Name: birth_year, dtype: int64"
      ]
     },
     "execution_count": 5,
     "metadata": {},
     "output_type": "execute_result"
    }
   ],
   "source": [
    "trips_df[\"birth_year\"].isna().value_counts() ## 55K trips have users with unknown birth year "
   ]
  },
  {
   "cell_type": "code",
   "execution_count": 6,
   "id": "0037f61c",
   "metadata": {},
   "outputs": [
    {
     "data": {
      "text/plain": [
       "male       315807\n",
       "female     100871\n",
       "unknown     56878\n",
       "Name: gender, dtype: int64"
      ]
     },
     "execution_count": 6,
     "metadata": {},
     "output_type": "execute_result"
    }
   ],
   "source": [
    "trips_df[\"gender\"].value_counts() ## 56K users with unknown gender "
   ]
  },
  {
   "cell_type": "code",
   "execution_count": 7,
   "id": "f32445ed",
   "metadata": {},
   "outputs": [
    {
     "data": {
      "text/plain": [
       "True    473556\n",
       "Name: customer_plan, dtype: int64"
      ]
     },
     "execution_count": 7,
     "metadata": {},
     "output_type": "execute_result"
    }
   ],
   "source": [
    "trips_df[\"customer_plan\"].isna().value_counts() ## idk what this attribute is"
   ]
  },
  {
   "cell_type": "markdown",
   "id": "1f1c8369",
   "metadata": {},
   "source": [
    "## Cleaning the Trips Data\n",
    "TODO: Transform all columns into numeric data that's useful for classification"
   ]
  },
  {
   "cell_type": "code",
   "execution_count": 39,
   "id": "41d3288b",
   "metadata": {},
   "outputs": [],
   "source": [
    "# idea for starttime, stoptime, is to see maybe WHEN most rides are initiated"
   ]
  },
  {
   "cell_type": "code",
   "execution_count": 67,
   "id": "cc2ebcc9",
   "metadata": {},
   "outputs": [],
   "source": [
    "hour_start = []\n",
    "for i in range(len(trips_df[\"starttime\"])):\n",
    "    start_hour = trips_df[\"starttime\"].iloc[i][11:13]\n",
    "    if start_hour[0] == \"0\":\n",
    "        hour_start.append(start_hour[1])\n",
    "    else:\n",
    "        hour_start.append(start_hour)"
   ]
  },
  {
   "cell_type": "code",
   "execution_count": 43,
   "id": "f84ee785",
   "metadata": {},
   "outputs": [],
   "source": [
    "trips_df[\"hour_start\"] = hour_start # we've now made an ordinal variable so we can classify the time of day when a trip starts"
   ]
  },
  {
   "cell_type": "code",
   "execution_count": 46,
   "id": "0f1e73ff",
   "metadata": {},
   "outputs": [],
   "source": [
    "# idea for start station, end station, is to calculate distance of trip\n",
    "trip_dist = []\n",
    "\n",
    "for i in range(len(trips_df)):\n",
    "    start_long = trips_df[\"start_station_longitude\"].iloc[i]\n",
    "    start_lat = trips_df[\"start_station_latitude\"].iloc[i]\n",
    "    end_long = trips_df[\"end_station_longitude\"].iloc[i]\n",
    "    end_lat = trips_df[\"end_station_latitude\"].iloc[i]\n",
    "    \n",
    "    trip_dist.append(geopy.distance.geodesic((start_lat, start_long), (end_lat, end_long)).km) # using kilometers"
   ]
  },
  {
   "cell_type": "code",
   "execution_count": 49,
   "id": "7f7b92ee",
   "metadata": {},
   "outputs": [],
   "source": [
    "trips_df[\"distance_traveled\"] = trip_dist"
   ]
  },
  {
   "cell_type": "code",
   "execution_count": 55,
   "id": "903eb115",
   "metadata": {},
   "outputs": [],
   "source": [
    "# idea for usertype, one-hot encode whether or not the user is a subscriber\n",
    "# 1 for yes, 0 for no.\n",
    "# subscriber means that the user has an annual pass to use Citibike\n",
    "# customer means that the user purchaed a 24- or 3-hour pass\n",
    "\n",
    "is_subscriber = []\n",
    "\n",
    "for i in range(len(trips_df)):\n",
    "    if trips_df[\"usertype\"].iloc[i] == \"Subscriber\":\n",
    "        is_subscriber.append(1)\n",
    "    else:\n",
    "        is_subscriber.append(0)"
   ]
  },
  {
   "cell_type": "code",
   "execution_count": 56,
   "id": "a9474d52",
   "metadata": {},
   "outputs": [],
   "source": [
    "trips_df[\"is_subscriber\"] = is_subscriber"
   ]
  },
  {
   "cell_type": "code",
   "execution_count": 60,
   "id": "58ab5a2f",
   "metadata": {},
   "outputs": [],
   "source": [
    "# problem with avg birth year is that there are many null values\n",
    "# for now, assume that the users w/ no birth year (likely because they aren't subscribers)\n",
    "# have the avg birth year of the users who do have their birth years recorded"
   ]
  },
  {
   "cell_type": "code",
   "execution_count": 59,
   "id": "d845c65a",
   "metadata": {},
   "outputs": [],
   "source": [
    "avg_birth_year = trips_df[\"birth_year\"].mean()"
   ]
  },
  {
   "cell_type": "code",
   "execution_count": 62,
   "id": "264c6e57",
   "metadata": {},
   "outputs": [],
   "source": [
    "trips_df[\"birth_year\"] = trips_df[\"birth_year\"].fillna(avg_birth_year)"
   ]
  },
  {
   "cell_type": "code",
   "execution_count": 64,
   "id": "b1afe93d",
   "metadata": {},
   "outputs": [],
   "source": [
    "# for gender, one-hot encode male/female binary\n",
    "# 1 for female, 0 for male\n",
    "# my implementation of this assumes that gender-unknown users are male, though they are likely\n",
    "# some other gender or have some % of female\n",
    "\n",
    "is_female = []\n",
    "for i in range(len(trips_df)):\n",
    "    if trips_df[\"gender\"].iloc[i] == \"female\":\n",
    "        is_female.append(1)\n",
    "    else:\n",
    "        is_female.append(0)"
   ]
  },
  {
   "cell_type": "code",
   "execution_count": 65,
   "id": "cdd44cf7",
   "metadata": {},
   "outputs": [],
   "source": [
    "trips_df[\"is_female\"] = is_female"
   ]
  },
  {
   "cell_type": "code",
   "execution_count": 75,
   "id": "a1661a8d",
   "metadata": {},
   "outputs": [],
   "source": [
    "trips_df_cleaned = trips_df[[\"tripduration\", \"birth_year\", \"hour_start\", \"distance_traveled\", \"is_subscriber\", \"is_female\"]] # just the numerical variables"
   ]
  },
  {
   "cell_type": "code",
   "execution_count": 87,
   "id": "1a616c26",
   "metadata": {},
   "outputs": [
    {
     "data": {
      "text/html": [
       "<div>\n",
       "<style scoped>\n",
       "    .dataframe tbody tr th:only-of-type {\n",
       "        vertical-align: middle;\n",
       "    }\n",
       "\n",
       "    .dataframe tbody tr th {\n",
       "        vertical-align: top;\n",
       "    }\n",
       "\n",
       "    .dataframe thead th {\n",
       "        text-align: right;\n",
       "    }\n",
       "</style>\n",
       "<table border=\"1\" class=\"dataframe\">\n",
       "  <thead>\n",
       "    <tr style=\"text-align: right;\">\n",
       "      <th></th>\n",
       "      <th>tripduration</th>\n",
       "      <th>birth_year</th>\n",
       "      <th>hour_start</th>\n",
       "      <th>distance_traveled</th>\n",
       "      <th>is_subscriber</th>\n",
       "      <th>is_female</th>\n",
       "    </tr>\n",
       "  </thead>\n",
       "  <tbody>\n",
       "    <tr>\n",
       "      <th>0</th>\n",
       "      <td>2319</td>\n",
       "      <td>1972.000000</td>\n",
       "      <td>13</td>\n",
       "      <td>6.677860</td>\n",
       "      <td>1</td>\n",
       "      <td>0</td>\n",
       "    </tr>\n",
       "    <tr>\n",
       "      <th>1</th>\n",
       "      <td>313</td>\n",
       "      <td>1968.000000</td>\n",
       "      <td>15</td>\n",
       "      <td>0.643981</td>\n",
       "      <td>1</td>\n",
       "      <td>1</td>\n",
       "    </tr>\n",
       "    <tr>\n",
       "      <th>2</th>\n",
       "      <td>798</td>\n",
       "      <td>1991.000000</td>\n",
       "      <td>18</td>\n",
       "      <td>2.424841</td>\n",
       "      <td>1</td>\n",
       "      <td>0</td>\n",
       "    </tr>\n",
       "    <tr>\n",
       "      <th>3</th>\n",
       "      <td>3100</td>\n",
       "      <td>1977.377694</td>\n",
       "      <td>15</td>\n",
       "      <td>0.549202</td>\n",
       "      <td>0</td>\n",
       "      <td>0</td>\n",
       "    </tr>\n",
       "    <tr>\n",
       "      <th>4</th>\n",
       "      <td>906</td>\n",
       "      <td>1961.000000</td>\n",
       "      <td>18</td>\n",
       "      <td>2.634014</td>\n",
       "      <td>1</td>\n",
       "      <td>0</td>\n",
       "    </tr>\n",
       "    <tr>\n",
       "      <th>...</th>\n",
       "      <td>...</td>\n",
       "      <td>...</td>\n",
       "      <td>...</td>\n",
       "      <td>...</td>\n",
       "      <td>...</td>\n",
       "      <td>...</td>\n",
       "    </tr>\n",
       "    <tr>\n",
       "      <th>473551</th>\n",
       "      <td>1368</td>\n",
       "      <td>1950.000000</td>\n",
       "      <td>16</td>\n",
       "      <td>1.743683</td>\n",
       "      <td>1</td>\n",
       "      <td>1</td>\n",
       "    </tr>\n",
       "    <tr>\n",
       "      <th>473552</th>\n",
       "      <td>1283</td>\n",
       "      <td>1977.377694</td>\n",
       "      <td>12</td>\n",
       "      <td>3.642224</td>\n",
       "      <td>0</td>\n",
       "      <td>0</td>\n",
       "    </tr>\n",
       "    <tr>\n",
       "      <th>473553</th>\n",
       "      <td>620</td>\n",
       "      <td>1977.377694</td>\n",
       "      <td>15</td>\n",
       "      <td>1.782790</td>\n",
       "      <td>0</td>\n",
       "      <td>0</td>\n",
       "    </tr>\n",
       "    <tr>\n",
       "      <th>473554</th>\n",
       "      <td>1510</td>\n",
       "      <td>1977.377694</td>\n",
       "      <td>15</td>\n",
       "      <td>3.260764</td>\n",
       "      <td>0</td>\n",
       "      <td>0</td>\n",
       "    </tr>\n",
       "    <tr>\n",
       "      <th>473555</th>\n",
       "      <td>1358</td>\n",
       "      <td>1977.377694</td>\n",
       "      <td>14</td>\n",
       "      <td>3.889673</td>\n",
       "      <td>0</td>\n",
       "      <td>0</td>\n",
       "    </tr>\n",
       "  </tbody>\n",
       "</table>\n",
       "<p>473556 rows × 6 columns</p>\n",
       "</div>"
      ],
      "text/plain": [
       "        tripduration   birth_year hour_start  distance_traveled  \\\n",
       "0               2319  1972.000000         13           6.677860   \n",
       "1                313  1968.000000         15           0.643981   \n",
       "2                798  1991.000000         18           2.424841   \n",
       "3               3100  1977.377694         15           0.549202   \n",
       "4                906  1961.000000         18           2.634014   \n",
       "...              ...          ...        ...                ...   \n",
       "473551          1368  1950.000000         16           1.743683   \n",
       "473552          1283  1977.377694         12           3.642224   \n",
       "473553           620  1977.377694         15           1.782790   \n",
       "473554          1510  1977.377694         15           3.260764   \n",
       "473555          1358  1977.377694         14           3.889673   \n",
       "\n",
       "        is_subscriber  is_female  \n",
       "0                   1          0  \n",
       "1                   1          1  \n",
       "2                   1          0  \n",
       "3                   0          0  \n",
       "4                   1          0  \n",
       "...               ...        ...  \n",
       "473551              1          1  \n",
       "473552              0          0  \n",
       "473553              0          0  \n",
       "473554              0          0  \n",
       "473555              0          0  \n",
       "\n",
       "[473556 rows x 6 columns]"
      ]
     },
     "execution_count": 87,
     "metadata": {},
     "output_type": "execute_result"
    }
   ],
   "source": [
    "trips_df_cleaned"
   ]
  },
  {
   "cell_type": "code",
   "execution_count": 98,
   "id": "60b684ff",
   "metadata": {},
   "outputs": [
    {
     "name": "stderr",
     "output_type": "stream",
     "text": [
      "C:\\Users\\matth\\AppData\\Local\\Temp\\ipykernel_18188\\3364991026.py:2: SettingWithCopyWarning: \n",
      "A value is trying to be set on a copy of a slice from a DataFrame.\n",
      "Try using .loc[row_indexer,col_indexer] = value instead\n",
      "\n",
      "See the caveats in the documentation: https://pandas.pydata.org/pandas-docs/stable/user_guide/indexing.html#returning-a-view-versus-a-copy\n",
      "  trips_df_cleaned[\"hour_start\"] = hour_start_int\n"
     ]
    }
   ],
   "source": [
    "hour_start_int = pd.to_numeric(trips_df_cleaned[\"hour_start\"])\n",
    "trips_df_cleaned[\"hour_start\"] = hour_start_int"
   ]
  },
  {
   "cell_type": "markdown",
   "id": "9435b68d",
   "metadata": {},
   "source": [
    "## trying some clustering techniques"
   ]
  },
  {
   "cell_type": "code",
   "execution_count": 115,
   "id": "ee3b9e1e",
   "metadata": {},
   "outputs": [],
   "source": [
    "kmeans = KMeans(n_clusters=3, random_state=0).fit(trips_df_cleaned)"
   ]
  },
  {
   "cell_type": "code",
   "execution_count": 116,
   "id": "6382b81f",
   "metadata": {},
   "outputs": [
    {
     "data": {
      "text/plain": [
       "array([[8.87560044e+02, 1.97737735e+03, 1.39651397e+01, 1.79584482e+00,\n",
       "        8.79511711e-01, 2.13003443e-01],\n",
       "       [2.95199254e+05, 1.97974686e+03, 1.41186441e+01, 3.12645310e+00,\n",
       "        4.74576271e-01, 2.71186441e-01],\n",
       "       [1.35405686e+06, 1.98093011e+03, 1.50000000e+01, 3.11877386e+00,\n",
       "        2.85714286e-01, 0.00000000e+00]])"
      ]
     },
     "execution_count": 116,
     "metadata": {},
     "output_type": "execute_result"
    }
   ],
   "source": [
    "kmeans.cluster_centers_"
   ]
  }
 ],
 "metadata": {
  "kernelspec": {
   "display_name": "Python 3 (ipykernel)",
   "language": "python",
   "name": "python3"
  },
  "language_info": {
   "codemirror_mode": {
    "name": "ipython",
    "version": 3
   },
   "file_extension": ".py",
   "mimetype": "text/x-python",
   "name": "python",
   "nbconvert_exporter": "python",
   "pygments_lexer": "ipython3",
   "version": "3.9.12"
  }
 },
 "nbformat": 4,
 "nbformat_minor": 5
}
