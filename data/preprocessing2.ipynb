{
 "cells": [
  {
   "cell_type": "code",
   "execution_count": 1,
   "id": "c3816b63",
   "metadata": {},
   "outputs": [],
   "source": [
    "import pandas as pd\n",
    "import sklearn as sk\n",
    "import geopy.distance\n",
    "from sklearn.cluster import KMeans\n",
    "from sklearn.preprocessing import MinMaxScaler\n",
    "from sklearn import metrics\n",
    "import numpy as np\n",
    "import matplotlib.pyplot as plt"
   ]
  },
  {
   "cell_type": "code",
   "execution_count": 2,
   "id": "a6d24859",
   "metadata": {},
   "outputs": [],
   "source": [
    "trips_df = pd.read_csv(\"citibike-trips.csv\")"
   ]
  },
  {
   "cell_type": "code",
   "execution_count": 3,
   "id": "eec34cca",
   "metadata": {},
   "outputs": [
    {
     "data": {
      "text/html": [
       "<div>\n",
       "<style scoped>\n",
       "    .dataframe tbody tr th:only-of-type {\n",
       "        vertical-align: middle;\n",
       "    }\n",
       "\n",
       "    .dataframe tbody tr th {\n",
       "        vertical-align: top;\n",
       "    }\n",
       "\n",
       "    .dataframe thead th {\n",
       "        text-align: right;\n",
       "    }\n",
       "</style>\n",
       "<table border=\"1\" class=\"dataframe\">\n",
       "  <thead>\n",
       "    <tr style=\"text-align: right;\">\n",
       "      <th></th>\n",
       "      <th>tripduration</th>\n",
       "      <th>starttime</th>\n",
       "      <th>stoptime</th>\n",
       "      <th>start_station_id</th>\n",
       "      <th>start_station_name</th>\n",
       "      <th>start_station_latitude</th>\n",
       "      <th>start_station_longitude</th>\n",
       "      <th>end_station_id</th>\n",
       "      <th>end_station_name</th>\n",
       "      <th>end_station_latitude</th>\n",
       "      <th>end_station_longitude</th>\n",
       "      <th>bikeid</th>\n",
       "      <th>usertype</th>\n",
       "      <th>birth_year</th>\n",
       "      <th>gender</th>\n",
       "      <th>customer_plan</th>\n",
       "    </tr>\n",
       "  </thead>\n",
       "  <tbody>\n",
       "    <tr>\n",
       "      <th>0</th>\n",
       "      <td>2319</td>\n",
       "      <td>2016-03-09 13:08:21</td>\n",
       "      <td>2016-03-09 13:47:01</td>\n",
       "      <td>520</td>\n",
       "      <td>W 52 St &amp; 5 Ave</td>\n",
       "      <td>40.759923</td>\n",
       "      <td>-73.976485</td>\n",
       "      <td>363</td>\n",
       "      <td>West Thames St</td>\n",
       "      <td>40.708347</td>\n",
       "      <td>-74.017134</td>\n",
       "      <td>23062</td>\n",
       "      <td>Subscriber</td>\n",
       "      <td>1972.0</td>\n",
       "      <td>male</td>\n",
       "      <td>NaN</td>\n",
       "    </tr>\n",
       "    <tr>\n",
       "      <th>1</th>\n",
       "      <td>313</td>\n",
       "      <td>2015-07-09 15:42:30</td>\n",
       "      <td>2015-07-09 15:47:44</td>\n",
       "      <td>520</td>\n",
       "      <td>W 52 St &amp; 5 Ave</td>\n",
       "      <td>40.759923</td>\n",
       "      <td>-73.976485</td>\n",
       "      <td>493</td>\n",
       "      <td>W 45 St &amp; 6 Ave</td>\n",
       "      <td>40.756800</td>\n",
       "      <td>-73.982912</td>\n",
       "      <td>16909</td>\n",
       "      <td>Subscriber</td>\n",
       "      <td>1968.0</td>\n",
       "      <td>female</td>\n",
       "      <td>NaN</td>\n",
       "    </tr>\n",
       "    <tr>\n",
       "      <th>2</th>\n",
       "      <td>798</td>\n",
       "      <td>2017-04-20 18:43:59</td>\n",
       "      <td>2017-04-20 18:57:17</td>\n",
       "      <td>520</td>\n",
       "      <td>W 52 St &amp; 5 Ave</td>\n",
       "      <td>40.759923</td>\n",
       "      <td>-73.976485</td>\n",
       "      <td>3258</td>\n",
       "      <td>W 27 St &amp; 10 Ave</td>\n",
       "      <td>40.750182</td>\n",
       "      <td>-74.002184</td>\n",
       "      <td>15555</td>\n",
       "      <td>Subscriber</td>\n",
       "      <td>1991.0</td>\n",
       "      <td>male</td>\n",
       "      <td>NaN</td>\n",
       "    </tr>\n",
       "    <tr>\n",
       "      <th>3</th>\n",
       "      <td>3100</td>\n",
       "      <td>2017-04-23 15:23:46</td>\n",
       "      <td>2017-04-23 16:15:26</td>\n",
       "      <td>520</td>\n",
       "      <td>W 52 St &amp; 5 Ave</td>\n",
       "      <td>40.759923</td>\n",
       "      <td>-73.976485</td>\n",
       "      <td>281</td>\n",
       "      <td>Grand Army Plaza &amp; Central Park S</td>\n",
       "      <td>40.764397</td>\n",
       "      <td>-73.973715</td>\n",
       "      <td>20648</td>\n",
       "      <td>Customer</td>\n",
       "      <td>NaN</td>\n",
       "      <td>unknown</td>\n",
       "      <td>NaN</td>\n",
       "    </tr>\n",
       "    <tr>\n",
       "      <th>4</th>\n",
       "      <td>906</td>\n",
       "      <td>2016-01-11 18:32:33</td>\n",
       "      <td>2016-01-11 18:47:39</td>\n",
       "      <td>520</td>\n",
       "      <td>W 52 St &amp; 5 Ave</td>\n",
       "      <td>40.759923</td>\n",
       "      <td>-73.976485</td>\n",
       "      <td>3162</td>\n",
       "      <td>W 78 St &amp; Broadway</td>\n",
       "      <td>40.783400</td>\n",
       "      <td>-73.980931</td>\n",
       "      <td>15614</td>\n",
       "      <td>Subscriber</td>\n",
       "      <td>1961.0</td>\n",
       "      <td>male</td>\n",
       "      <td>NaN</td>\n",
       "    </tr>\n",
       "  </tbody>\n",
       "</table>\n",
       "</div>"
      ],
      "text/plain": [
       "   tripduration            starttime             stoptime  start_station_id  \\\n",
       "0          2319  2016-03-09 13:08:21  2016-03-09 13:47:01               520   \n",
       "1           313  2015-07-09 15:42:30  2015-07-09 15:47:44               520   \n",
       "2           798  2017-04-20 18:43:59  2017-04-20 18:57:17               520   \n",
       "3          3100  2017-04-23 15:23:46  2017-04-23 16:15:26               520   \n",
       "4           906  2016-01-11 18:32:33  2016-01-11 18:47:39               520   \n",
       "\n",
       "  start_station_name  start_station_latitude  start_station_longitude  \\\n",
       "0    W 52 St & 5 Ave               40.759923               -73.976485   \n",
       "1    W 52 St & 5 Ave               40.759923               -73.976485   \n",
       "2    W 52 St & 5 Ave               40.759923               -73.976485   \n",
       "3    W 52 St & 5 Ave               40.759923               -73.976485   \n",
       "4    W 52 St & 5 Ave               40.759923               -73.976485   \n",
       "\n",
       "   end_station_id                   end_station_name  end_station_latitude  \\\n",
       "0             363                     West Thames St             40.708347   \n",
       "1             493                    W 45 St & 6 Ave             40.756800   \n",
       "2            3258                   W 27 St & 10 Ave             40.750182   \n",
       "3             281  Grand Army Plaza & Central Park S             40.764397   \n",
       "4            3162                 W 78 St & Broadway             40.783400   \n",
       "\n",
       "   end_station_longitude  bikeid    usertype  birth_year   gender  \\\n",
       "0             -74.017134   23062  Subscriber      1972.0     male   \n",
       "1             -73.982912   16909  Subscriber      1968.0   female   \n",
       "2             -74.002184   15555  Subscriber      1991.0     male   \n",
       "3             -73.973715   20648    Customer         NaN  unknown   \n",
       "4             -73.980931   15614  Subscriber      1961.0     male   \n",
       "\n",
       "   customer_plan  \n",
       "0            NaN  \n",
       "1            NaN  \n",
       "2            NaN  \n",
       "3            NaN  \n",
       "4            NaN  "
      ]
     },
     "execution_count": 3,
     "metadata": {},
     "output_type": "execute_result"
    }
   ],
   "source": [
    "trips_df.head()"
   ]
  },
  {
   "cell_type": "code",
   "execution_count": 4,
   "id": "f7130134",
   "metadata": {},
   "outputs": [
    {
     "data": {
      "text/plain": [
       "False    417581\n",
       "True      55975\n",
       "Name: birth_year, dtype: int64"
      ]
     },
     "execution_count": 4,
     "metadata": {},
     "output_type": "execute_result"
    }
   ],
   "source": [
    "trips_df[\"birth_year\"].isna().value_counts() ## 55K trips have users with unknown birth year "
   ]
  },
  {
   "cell_type": "code",
   "execution_count": 5,
   "id": "0037f61c",
   "metadata": {},
   "outputs": [
    {
     "data": {
      "text/plain": [
       "male       315807\n",
       "female     100871\n",
       "unknown     56878\n",
       "Name: gender, dtype: int64"
      ]
     },
     "execution_count": 5,
     "metadata": {},
     "output_type": "execute_result"
    }
   ],
   "source": [
    "trips_df[\"gender\"].value_counts() ## 56K users with unknown gender "
   ]
  },
  {
   "cell_type": "code",
   "execution_count": 6,
   "id": "f32445ed",
   "metadata": {},
   "outputs": [
    {
     "data": {
      "text/plain": [
       "True    473556\n",
       "Name: customer_plan, dtype: int64"
      ]
     },
     "execution_count": 6,
     "metadata": {},
     "output_type": "execute_result"
    }
   ],
   "source": [
    "trips_df[\"customer_plan\"].isna().value_counts() ## idk what this attribute is"
   ]
  },
  {
   "cell_type": "markdown",
   "id": "1f1c8369",
   "metadata": {},
   "source": [
    "## Cleaning the Trips Data\n",
    "TODO: Transform all columns into numeric data that's useful for classification"
   ]
  },
  {
   "cell_type": "code",
   "execution_count": 7,
   "id": "41d3288b",
   "metadata": {},
   "outputs": [],
   "source": [
    "# idea for starttime, stoptime, is to see maybe WHEN most rides are initiated"
   ]
  },
  {
   "cell_type": "code",
   "execution_count": 8,
   "id": "cc2ebcc9",
   "metadata": {},
   "outputs": [],
   "source": [
    "hour_start = []\n",
    "for i in range(len(trips_df[\"starttime\"])):\n",
    "    start_hour = trips_df[\"starttime\"].iloc[i][11:13]\n",
    "    if start_hour[0] == \"0\":\n",
    "        hour_start.append(start_hour[1])\n",
    "    else:\n",
    "        hour_start.append(start_hour)"
   ]
  },
  {
   "cell_type": "code",
   "execution_count": 9,
   "id": "f84ee785",
   "metadata": {},
   "outputs": [],
   "source": [
    "trips_df[\"hour_start\"] = hour_start # we've now made an ordinal variable so we can classify the time of day when a trip starts"
   ]
  },
  {
   "cell_type": "code",
   "execution_count": 10,
   "id": "0f1e73ff",
   "metadata": {},
   "outputs": [],
   "source": [
    "# idea for start station, end station, is to calculate distance of trip\n",
    "trip_dist = []\n",
    "\n",
    "for i in range(len(trips_df)):\n",
    "    start_long = trips_df[\"start_station_longitude\"].iloc[i]\n",
    "    start_lat = trips_df[\"start_station_latitude\"].iloc[i]\n",
    "    end_long = trips_df[\"end_station_longitude\"].iloc[i]\n",
    "    end_lat = trips_df[\"end_station_latitude\"].iloc[i]\n",
    "    \n",
    "    trip_dist.append(geopy.distance.geodesic((start_lat, start_long), (end_lat, end_long)).km) # using kilometers"
   ]
  },
  {
   "cell_type": "code",
   "execution_count": 11,
   "id": "7f7b92ee",
   "metadata": {},
   "outputs": [],
   "source": [
    "trips_df[\"distance_traveled\"] = trip_dist"
   ]
  },
  {
   "cell_type": "code",
   "execution_count": 12,
   "id": "903eb115",
   "metadata": {},
   "outputs": [],
   "source": [
    "# idea for usertype, one-hot encode whether or not the user is a subscriber\n",
    "# 1 for yes, 0 for no.\n",
    "# subscriber means that the user has an annual pass to use Citibike\n",
    "# customer means that the user purchaed a 24- or 3-hour pass\n",
    "\n",
    "is_subscriber = []\n",
    "\n",
    "for i in range(len(trips_df)):\n",
    "    if trips_df[\"usertype\"].iloc[i] == \"Subscriber\":\n",
    "        is_subscriber.append(1)\n",
    "    else:\n",
    "        is_subscriber.append(0)"
   ]
  },
  {
   "cell_type": "code",
   "execution_count": 13,
   "id": "a9474d52",
   "metadata": {},
   "outputs": [],
   "source": [
    "trips_df[\"is_subscriber\"] = is_subscriber"
   ]
  },
  {
   "cell_type": "code",
   "execution_count": 14,
   "id": "58ab5a2f",
   "metadata": {},
   "outputs": [],
   "source": [
    "# problem with avg birth year is that there are many null values\n",
    "# for now, assume that the users w/ no birth year (likely because they aren't subscribers)\n",
    "# have the avg birth year of the users who do have their birth years recorded"
   ]
  },
  {
   "cell_type": "code",
   "execution_count": 15,
   "id": "d845c65a",
   "metadata": {},
   "outputs": [],
   "source": [
    "avg_birth_year = trips_df[\"birth_year\"].mean()"
   ]
  },
  {
   "cell_type": "code",
   "execution_count": 16,
   "id": "264c6e57",
   "metadata": {},
   "outputs": [],
   "source": [
    "trips_df[\"birth_year\"] = trips_df[\"birth_year\"].fillna(avg_birth_year)"
   ]
  },
  {
   "cell_type": "code",
   "execution_count": 17,
   "id": "b1afe93d",
   "metadata": {},
   "outputs": [],
   "source": [
    "# for gender, one-hot encode male/female binary\n",
    "# 1 for female, 0 for male\n",
    "# my implementation of this assumes that gender-unknown users are male, though they are likely\n",
    "# some other gender or have some % of female\n",
    "\n",
    "is_female = []\n",
    "for i in range(len(trips_df)):\n",
    "    if trips_df[\"gender\"].iloc[i] == \"female\":\n",
    "        is_female.append(1)\n",
    "    else:\n",
    "        is_female.append(0)"
   ]
  },
  {
   "cell_type": "code",
   "execution_count": 18,
   "id": "cdd44cf7",
   "metadata": {},
   "outputs": [],
   "source": [
    "trips_df[\"is_female\"] = is_female"
   ]
  },
  {
   "cell_type": "code",
   "execution_count": 19,
   "id": "a1661a8d",
   "metadata": {},
   "outputs": [],
   "source": [
    "trips_df_cleaned = trips_df[[\"tripduration\", \"birth_year\", \"hour_start\", \"distance_traveled\", \"is_subscriber\", \"is_female\"]] # just the numerical variables"
   ]
  },
  {
   "cell_type": "code",
   "execution_count": 20,
   "id": "33a2becf",
   "metadata": {},
   "outputs": [
    {
     "data": {
      "text/html": [
       "<div>\n",
       "<style scoped>\n",
       "    .dataframe tbody tr th:only-of-type {\n",
       "        vertical-align: middle;\n",
       "    }\n",
       "\n",
       "    .dataframe tbody tr th {\n",
       "        vertical-align: top;\n",
       "    }\n",
       "\n",
       "    .dataframe thead th {\n",
       "        text-align: right;\n",
       "    }\n",
       "</style>\n",
       "<table border=\"1\" class=\"dataframe\">\n",
       "  <thead>\n",
       "    <tr style=\"text-align: right;\">\n",
       "      <th></th>\n",
       "      <th>tripduration</th>\n",
       "      <th>birth_year</th>\n",
       "      <th>hour_start</th>\n",
       "      <th>distance_traveled</th>\n",
       "      <th>is_subscriber</th>\n",
       "      <th>is_female</th>\n",
       "    </tr>\n",
       "  </thead>\n",
       "  <tbody>\n",
       "    <tr>\n",
       "      <th>0</th>\n",
       "      <td>2319</td>\n",
       "      <td>1972.000000</td>\n",
       "      <td>13</td>\n",
       "      <td>6.677860</td>\n",
       "      <td>1</td>\n",
       "      <td>0</td>\n",
       "    </tr>\n",
       "    <tr>\n",
       "      <th>1</th>\n",
       "      <td>313</td>\n",
       "      <td>1968.000000</td>\n",
       "      <td>15</td>\n",
       "      <td>0.643981</td>\n",
       "      <td>1</td>\n",
       "      <td>1</td>\n",
       "    </tr>\n",
       "    <tr>\n",
       "      <th>2</th>\n",
       "      <td>798</td>\n",
       "      <td>1991.000000</td>\n",
       "      <td>18</td>\n",
       "      <td>2.424841</td>\n",
       "      <td>1</td>\n",
       "      <td>0</td>\n",
       "    </tr>\n",
       "    <tr>\n",
       "      <th>3</th>\n",
       "      <td>3100</td>\n",
       "      <td>1977.377694</td>\n",
       "      <td>15</td>\n",
       "      <td>0.549202</td>\n",
       "      <td>0</td>\n",
       "      <td>0</td>\n",
       "    </tr>\n",
       "    <tr>\n",
       "      <th>4</th>\n",
       "      <td>906</td>\n",
       "      <td>1961.000000</td>\n",
       "      <td>18</td>\n",
       "      <td>2.634014</td>\n",
       "      <td>1</td>\n",
       "      <td>0</td>\n",
       "    </tr>\n",
       "    <tr>\n",
       "      <th>...</th>\n",
       "      <td>...</td>\n",
       "      <td>...</td>\n",
       "      <td>...</td>\n",
       "      <td>...</td>\n",
       "      <td>...</td>\n",
       "      <td>...</td>\n",
       "    </tr>\n",
       "    <tr>\n",
       "      <th>473551</th>\n",
       "      <td>1368</td>\n",
       "      <td>1950.000000</td>\n",
       "      <td>16</td>\n",
       "      <td>1.743683</td>\n",
       "      <td>1</td>\n",
       "      <td>1</td>\n",
       "    </tr>\n",
       "    <tr>\n",
       "      <th>473552</th>\n",
       "      <td>1283</td>\n",
       "      <td>1977.377694</td>\n",
       "      <td>12</td>\n",
       "      <td>3.642224</td>\n",
       "      <td>0</td>\n",
       "      <td>0</td>\n",
       "    </tr>\n",
       "    <tr>\n",
       "      <th>473553</th>\n",
       "      <td>620</td>\n",
       "      <td>1977.377694</td>\n",
       "      <td>15</td>\n",
       "      <td>1.782790</td>\n",
       "      <td>0</td>\n",
       "      <td>0</td>\n",
       "    </tr>\n",
       "    <tr>\n",
       "      <th>473554</th>\n",
       "      <td>1510</td>\n",
       "      <td>1977.377694</td>\n",
       "      <td>15</td>\n",
       "      <td>3.260764</td>\n",
       "      <td>0</td>\n",
       "      <td>0</td>\n",
       "    </tr>\n",
       "    <tr>\n",
       "      <th>473555</th>\n",
       "      <td>1358</td>\n",
       "      <td>1977.377694</td>\n",
       "      <td>14</td>\n",
       "      <td>3.889673</td>\n",
       "      <td>0</td>\n",
       "      <td>0</td>\n",
       "    </tr>\n",
       "  </tbody>\n",
       "</table>\n",
       "<p>473556 rows × 6 columns</p>\n",
       "</div>"
      ],
      "text/plain": [
       "        tripduration   birth_year hour_start  distance_traveled  \\\n",
       "0               2319  1972.000000         13           6.677860   \n",
       "1                313  1968.000000         15           0.643981   \n",
       "2                798  1991.000000         18           2.424841   \n",
       "3               3100  1977.377694         15           0.549202   \n",
       "4                906  1961.000000         18           2.634014   \n",
       "...              ...          ...        ...                ...   \n",
       "473551          1368  1950.000000         16           1.743683   \n",
       "473552          1283  1977.377694         12           3.642224   \n",
       "473553           620  1977.377694         15           1.782790   \n",
       "473554          1510  1977.377694         15           3.260764   \n",
       "473555          1358  1977.377694         14           3.889673   \n",
       "\n",
       "        is_subscriber  is_female  \n",
       "0                   1          0  \n",
       "1                   1          1  \n",
       "2                   1          0  \n",
       "3                   0          0  \n",
       "4                   1          0  \n",
       "...               ...        ...  \n",
       "473551              1          1  \n",
       "473552              0          0  \n",
       "473553              0          0  \n",
       "473554              0          0  \n",
       "473555              0          0  \n",
       "\n",
       "[473556 rows x 6 columns]"
      ]
     },
     "execution_count": 20,
     "metadata": {},
     "output_type": "execute_result"
    }
   ],
   "source": [
    "trips_df_cleaned"
   ]
  },
  {
   "cell_type": "code",
   "execution_count": 21,
   "id": "60b684ff",
   "metadata": {},
   "outputs": [
    {
     "name": "stderr",
     "output_type": "stream",
     "text": [
      "C:\\Users\\matth\\AppData\\Local\\Temp\\ipykernel_19156\\3364991026.py:2: SettingWithCopyWarning: \n",
      "A value is trying to be set on a copy of a slice from a DataFrame.\n",
      "Try using .loc[row_indexer,col_indexer] = value instead\n",
      "\n",
      "See the caveats in the documentation: https://pandas.pydata.org/pandas-docs/stable/user_guide/indexing.html#returning-a-view-versus-a-copy\n",
      "  trips_df_cleaned[\"hour_start\"] = hour_start_int\n"
     ]
    }
   ],
   "source": [
    "hour_start_int = pd.to_numeric(trips_df_cleaned[\"hour_start\"])\n",
    "trips_df_cleaned[\"hour_start\"] = hour_start_int"
   ]
  },
  {
   "cell_type": "code",
   "execution_count": 22,
   "id": "eba30900",
   "metadata": {},
   "outputs": [],
   "source": [
    "# now applying MinMax Scaling\n",
    "scaler = MinMaxScaler()\n",
    "scaler.fit(trips_df_cleaned)\n",
    "trips_df_cleaned_scaled = pd.DataFrame(scaler.transform(trips_df_cleaned))"
   ]
  },
  {
   "cell_type": "markdown",
   "id": "9435b68d",
   "metadata": {},
   "source": [
    "## trying some clustering techniques"
   ]
  },
  {
   "cell_type": "code",
   "execution_count": 23,
   "id": "ee3b9e1e",
   "metadata": {},
   "outputs": [
    {
     "name": "stderr",
     "output_type": "stream",
     "text": [
      "C:\\Users\\matth\\anaconda3\\lib\\site-packages\\sklearn\\utils\\validation.py:1688: FutureWarning: Feature names only support names that are all strings. Got feature names with dtypes: ['int', 'str']. An error will be raised in 1.2.\n",
      "  warnings.warn(\n",
      "C:\\Users\\matth\\anaconda3\\lib\\site-packages\\sklearn\\utils\\validation.py:1688: FutureWarning: Feature names only support names that are all strings. Got feature names with dtypes: ['int', 'str']. An error will be raised in 1.2.\n",
      "  warnings.warn(\n",
      "C:\\Users\\matth\\anaconda3\\lib\\site-packages\\sklearn\\utils\\validation.py:1688: FutureWarning: Feature names only support names that are all strings. Got feature names with dtypes: ['int', 'str']. An error will be raised in 1.2.\n",
      "  warnings.warn(\n",
      "C:\\Users\\matth\\anaconda3\\lib\\site-packages\\sklearn\\utils\\validation.py:1688: FutureWarning: Feature names only support names that are all strings. Got feature names with dtypes: ['int', 'str']. An error will be raised in 1.2.\n",
      "  warnings.warn(\n",
      "C:\\Users\\matth\\anaconda3\\lib\\site-packages\\sklearn\\utils\\validation.py:1688: FutureWarning: Feature names only support names that are all strings. Got feature names with dtypes: ['int', 'str']. An error will be raised in 1.2.\n",
      "  warnings.warn(\n",
      "C:\\Users\\matth\\anaconda3\\lib\\site-packages\\sklearn\\utils\\validation.py:1688: FutureWarning: Feature names only support names that are all strings. Got feature names with dtypes: ['int', 'str']. An error will be raised in 1.2.\n",
      "  warnings.warn(\n",
      "C:\\Users\\matth\\anaconda3\\lib\\site-packages\\sklearn\\utils\\validation.py:1688: FutureWarning: Feature names only support names that are all strings. Got feature names with dtypes: ['int', 'str']. An error will be raised in 1.2.\n",
      "  warnings.warn(\n",
      "C:\\Users\\matth\\anaconda3\\lib\\site-packages\\sklearn\\utils\\validation.py:1688: FutureWarning: Feature names only support names that are all strings. Got feature names with dtypes: ['int', 'str']. An error will be raised in 1.2.\n",
      "  warnings.warn(\n"
     ]
    }
   ],
   "source": [
    "sse = {}\n",
    "for k in range(1, 10):\n",
    "    kmeans = KMeans(n_clusters=k, max_iter=10).fit(trips_df_cleaned_scaled)\n",
    "    trips_df_cleaned_scaled[\"clusters\"] = kmeans.labels_\n",
    "    sse[k] = kmeans.inertia_ # Inertia: Sum of distances of samples to their closest cluster center"
   ]
  },
  {
   "cell_type": "code",
   "execution_count": 25,
   "id": "4b244bfd",
   "metadata": {},
   "outputs": [
    {
     "data": {
      "image/png": "[encoded data removed]",
      "text/plain": [
       "<Figure size 640x480 with 1 Axes>"
      ]
     },
     "metadata": {},
     "output_type": "display_data"
    }
   ],
   "source": [
    "plt.figure()\n",
    "plt.plot(list(sse.keys()), list(sse.values()))\n",
    "plt.xlabel(\"Number of clusters\")\n",
    "plt.ylabel(\"SSE\")\n",
    "plt.title(\"Best k for k-means clustering\")\n",
    "plt.savefig(\"elbow.png\")\n",
    "plt.show()"
   ]
  },
  {
   "cell_type": "markdown",
   "id": "35ccae21",
   "metadata": {},
   "source": [
    "## running on smaller subset of data"
   ]
  },
  {
   "cell_type": "code",
   "execution_count": 27,
   "id": "b6316ac8",
   "metadata": {},
   "outputs": [
    {
     "data": {
      "text/html": [
       "<div>\n",
       "<style scoped>\n",
       "    .dataframe tbody tr th:only-of-type {\n",
       "        vertical-align: middle;\n",
       "    }\n",
       "\n",
       "    .dataframe tbody tr th {\n",
       "        vertical-align: top;\n",
       "    }\n",
       "\n",
       "    .dataframe thead th {\n",
       "        text-align: right;\n",
       "    }\n",
       "</style>\n",
       "<table border=\"1\" class=\"dataframe\">\n",
       "  <thead>\n",
       "    <tr style=\"text-align: right;\">\n",
       "      <th></th>\n",
       "      <th>0</th>\n",
       "      <th>1</th>\n",
       "      <th>2</th>\n",
       "      <th>3</th>\n",
       "      <th>4</th>\n",
       "      <th>5</th>\n",
       "      <th>clusters</th>\n",
       "    </tr>\n",
       "  </thead>\n",
       "  <tbody>\n",
       "    <tr>\n",
       "      <th>0</th>\n",
       "      <td>0.001147</td>\n",
       "      <td>0.750000</td>\n",
       "      <td>0.565217</td>\n",
       "      <td>0.000770</td>\n",
       "      <td>1.0</td>\n",
       "      <td>0.0</td>\n",
       "      <td>3</td>\n",
       "    </tr>\n",
       "    <tr>\n",
       "      <th>1</th>\n",
       "      <td>0.000128</td>\n",
       "      <td>0.715517</td>\n",
       "      <td>0.652174</td>\n",
       "      <td>0.000074</td>\n",
       "      <td>1.0</td>\n",
       "      <td>1.0</td>\n",
       "      <td>1</td>\n",
       "    </tr>\n",
       "    <tr>\n",
       "      <th>2</th>\n",
       "      <td>0.000375</td>\n",
       "      <td>0.913793</td>\n",
       "      <td>0.782609</td>\n",
       "      <td>0.000280</td>\n",
       "      <td>1.0</td>\n",
       "      <td>0.0</td>\n",
       "      <td>5</td>\n",
       "    </tr>\n",
       "    <tr>\n",
       "      <th>3</th>\n",
       "      <td>0.001543</td>\n",
       "      <td>0.796359</td>\n",
       "      <td>0.652174</td>\n",
       "      <td>0.000063</td>\n",
       "      <td>0.0</td>\n",
       "      <td>0.0</td>\n",
       "      <td>7</td>\n",
       "    </tr>\n",
       "    <tr>\n",
       "      <th>4</th>\n",
       "      <td>0.000430</td>\n",
       "      <td>0.655172</td>\n",
       "      <td>0.782609</td>\n",
       "      <td>0.000304</td>\n",
       "      <td>1.0</td>\n",
       "      <td>0.0</td>\n",
       "      <td>0</td>\n",
       "    </tr>\n",
       "    <tr>\n",
       "      <th>...</th>\n",
       "      <td>...</td>\n",
       "      <td>...</td>\n",
       "      <td>...</td>\n",
       "      <td>...</td>\n",
       "      <td>...</td>\n",
       "      <td>...</td>\n",
       "      <td>...</td>\n",
       "    </tr>\n",
       "    <tr>\n",
       "      <th>473551</th>\n",
       "      <td>0.000664</td>\n",
       "      <td>0.560345</td>\n",
       "      <td>0.695652</td>\n",
       "      <td>0.000201</td>\n",
       "      <td>1.0</td>\n",
       "      <td>1.0</td>\n",
       "      <td>1</td>\n",
       "    </tr>\n",
       "    <tr>\n",
       "      <th>473552</th>\n",
       "      <td>0.000621</td>\n",
       "      <td>0.796359</td>\n",
       "      <td>0.521739</td>\n",
       "      <td>0.000420</td>\n",
       "      <td>0.0</td>\n",
       "      <td>0.0</td>\n",
       "      <td>6</td>\n",
       "    </tr>\n",
       "    <tr>\n",
       "      <th>473553</th>\n",
       "      <td>0.000284</td>\n",
       "      <td>0.796359</td>\n",
       "      <td>0.652174</td>\n",
       "      <td>0.000206</td>\n",
       "      <td>0.0</td>\n",
       "      <td>0.0</td>\n",
       "      <td>7</td>\n",
       "    </tr>\n",
       "    <tr>\n",
       "      <th>473554</th>\n",
       "      <td>0.000736</td>\n",
       "      <td>0.796359</td>\n",
       "      <td>0.652174</td>\n",
       "      <td>0.000376</td>\n",
       "      <td>0.0</td>\n",
       "      <td>0.0</td>\n",
       "      <td>7</td>\n",
       "    </tr>\n",
       "    <tr>\n",
       "      <th>473555</th>\n",
       "      <td>0.000659</td>\n",
       "      <td>0.796359</td>\n",
       "      <td>0.608696</td>\n",
       "      <td>0.000449</td>\n",
       "      <td>0.0</td>\n",
       "      <td>0.0</td>\n",
       "      <td>6</td>\n",
       "    </tr>\n",
       "  </tbody>\n",
       "</table>\n",
       "<p>473556 rows × 7 columns</p>\n",
       "</div>"
      ],
      "text/plain": [
       "               0         1         2         3    4    5  clusters\n",
       "0       0.001147  0.750000  0.565217  0.000770  1.0  0.0         3\n",
       "1       0.000128  0.715517  0.652174  0.000074  1.0  1.0         1\n",
       "2       0.000375  0.913793  0.782609  0.000280  1.0  0.0         5\n",
       "3       0.001543  0.796359  0.652174  0.000063  0.0  0.0         7\n",
       "4       0.000430  0.655172  0.782609  0.000304  1.0  0.0         0\n",
       "...          ...       ...       ...       ...  ...  ...       ...\n",
       "473551  0.000664  0.560345  0.695652  0.000201  1.0  1.0         1\n",
       "473552  0.000621  0.796359  0.521739  0.000420  0.0  0.0         6\n",
       "473553  0.000284  0.796359  0.652174  0.000206  0.0  0.0         7\n",
       "473554  0.000736  0.796359  0.652174  0.000376  0.0  0.0         7\n",
       "473555  0.000659  0.796359  0.608696  0.000449  0.0  0.0         6\n",
       "\n",
       "[473556 rows x 7 columns]"
      ]
     },
     "execution_count": 27,
     "metadata": {},
     "output_type": "execute_result"
    }
   ],
   "source": [
    "trips_df_cleaned_scaled"
   ]
  },
  {
   "cell_type": "code",
   "execution_count": 28,
   "id": "c67e8eeb",
   "metadata": {},
   "outputs": [],
   "source": [
    "no_distances = trips_df_cleaned_scaled.drop(columns = [3, \"clusters\"])"
   ]
  },
  {
   "cell_type": "code",
   "execution_count": 29,
   "id": "cb51c3fa",
   "metadata": {},
   "outputs": [],
   "source": [
    "no_distances_has_labels = trips_df_cleaned_scaled.drop(columns = 3)"
   ]
  },
  {
   "cell_type": "code",
   "execution_count": 30,
   "id": "6382b81f",
   "metadata": {},
   "outputs": [
    {
     "data": {
      "text/plain": [
       "array([[3.59351987e-04, 7.92674942e-01, 6.03907433e-01, 1.00000000e+00,\n",
       "        7.05269176e-14],\n",
       "       [4.22543868e-04, 8.06380890e-01, 6.04518082e-01, 1.00000000e+00,\n",
       "        1.00000000e+00],\n",
       "       [9.92138685e-04, 7.99333770e-01, 6.30002178e-01, 8.11573031e-14,\n",
       "        2.28076937e-02]])"
      ]
     },
     "execution_count": 30,
     "metadata": {},
     "output_type": "execute_result"
    }
   ],
   "source": [
    "kmeans = KMeans(n_clusters=3, max_iter=10).fit(no_distances)\n",
    "kmeans.cluster_centers_"
   ]
  },
  {
   "cell_type": "code",
   "execution_count": 50,
   "id": "2351c18f",
   "metadata": {},
   "outputs": [],
   "source": [
    "trips_df[\"labels\"] = kmeans.labels_"
   ]
  },
  {
   "cell_type": "code",
   "execution_count": 91,
   "id": "ab5fd814",
   "metadata": {},
   "outputs": [
    {
     "data": {
      "text/plain": [
       "57086"
      ]
     },
     "execution_count": 91,
     "metadata": {},
     "output_type": "execute_result"
    }
   ],
   "source": [
    "len(label_2)"
   ]
  },
  {
   "cell_type": "code",
   "execution_count": 71,
   "id": "ace5ad92",
   "metadata": {},
   "outputs": [
    {
     "name": "stderr",
     "output_type": "stream",
     "text": [
      "C:\\Users\\matth\\AppData\\Local\\Temp\\ipykernel_19156\\704529197.py:2: SettingWithCopyWarning: \n",
      "A value is trying to be set on a copy of a slice from a DataFrame.\n",
      "Try using .loc[row_indexer,col_indexer] = value instead\n",
      "\n",
      "See the caveats in the documentation: https://pandas.pydata.org/pandas-docs/stable/user_guide/indexing.html#returning-a-view-versus-a-copy\n",
      "  label_0[\"hour_start\"] = label_0[\"hour_start\"].astype(float)\n"
     ]
    }
   ],
   "source": [
    "label_0 = trips_df[trips_df[\"labels\"] == 0]\n",
    "label_0[\"hour_start\"] = label_0[\"hour_start\"].astype(float)\n",
    "label_0_mean = label_0[[\"tripduration\", \"birth_year\", \"hour_start\", \"is_subscriber\", \"is_female\"]].mean()"
   ]
  },
  {
   "cell_type": "code",
   "execution_count": 73,
   "id": "05d0777a",
   "metadata": {},
   "outputs": [
    {
     "data": {
      "text/plain": [
       "tripduration      767.810578\n",
       "birth_year       1976.950293\n",
       "hour_start         13.889871\n",
       "is_subscriber       1.000000\n",
       "is_female           0.000000\n",
       "dtype: float64"
      ]
     },
     "execution_count": 73,
     "metadata": {},
     "output_type": "execute_result"
    }
   ],
   "source": [
    "label_0_mean"
   ]
  },
  {
   "cell_type": "code",
   "execution_count": 77,
   "id": "33f5bae7",
   "metadata": {},
   "outputs": [
    {
     "name": "stderr",
     "output_type": "stream",
     "text": [
      "C:\\Users\\matth\\AppData\\Local\\Temp\\ipykernel_19156\\2512063200.py:2: SettingWithCopyWarning: \n",
      "A value is trying to be set on a copy of a slice from a DataFrame.\n",
      "Try using .loc[row_indexer,col_indexer] = value instead\n",
      "\n",
      "See the caveats in the documentation: https://pandas.pydata.org/pandas-docs/stable/user_guide/indexing.html#returning-a-view-versus-a-copy\n",
      "  label_1[\"hour_start\"] = label_1[\"hour_start\"].astype(float)\n"
     ]
    }
   ],
   "source": [
    "label_1 = trips_df[trips_df[\"labels\"] == 1]\n",
    "label_1[\"hour_start\"] = label_1[\"hour_start\"].astype(float)\n",
    "label_1_mean = label_1[[\"tripduration\", \"birth_year\", \"hour_start\", \"is_subscriber\", \"is_female\"]].mean()"
   ]
  },
  {
   "cell_type": "code",
   "execution_count": 78,
   "id": "ae52d7cf",
   "metadata": {},
   "outputs": [
    {
     "name": "stderr",
     "output_type": "stream",
     "text": [
      "C:\\Users\\matth\\AppData\\Local\\Temp\\ipykernel_19156\\3579993467.py:2: SettingWithCopyWarning: \n",
      "A value is trying to be set on a copy of a slice from a DataFrame.\n",
      "Try using .loc[row_indexer,col_indexer] = value instead\n",
      "\n",
      "See the caveats in the documentation: https://pandas.pydata.org/pandas-docs/stable/user_guide/indexing.html#returning-a-view-versus-a-copy\n",
      "  label_2[\"hour_start\"] = label_2[\"hour_start\"].astype(float)\n"
     ]
    }
   ],
   "source": [
    "label_2 = trips_df[trips_df[\"labels\"] == 2]\n",
    "label_2[\"hour_start\"] = label_2[\"hour_start\"].astype(float)\n",
    "label_2_mean = label_2[[\"tripduration\", \"birth_year\", \"hour_start\", \"is_subscriber\", \"is_female\"]].mean()"
   ]
  },
  {
   "cell_type": "code",
   "execution_count": 81,
   "id": "69f8d077",
   "metadata": {},
   "outputs": [],
   "source": [
    "test0 = pd.DataFrame(label_0_mean)\n",
    "test1 = pd.DataFrame(label_1_mean)\n",
    "test2 = pd.DataFrame(label_2_mean)\n",
    "\n",
    "all_avg = pd.concat([test0, test1, test2], axis = 1)"
   ]
  },
  {
   "cell_type": "code",
   "execution_count": 83,
   "id": "6591900d",
   "metadata": {},
   "outputs": [],
   "source": [
    "all_avg.columns = [\"cluster_0\", \"cluster_1\", \"cluster_2\"]"
   ]
  },
  {
   "cell_type": "code",
   "execution_count": 86,
   "id": "8c004c76",
   "metadata": {},
   "outputs": [],
   "source": [
    "all_avg_t = all_avg.T"
   ]
  },
  {
   "cell_type": "code",
   "execution_count": 89,
   "id": "20c0d4bb",
   "metadata": {},
   "outputs": [
    {
     "name": "stdout",
     "output_type": "stream",
     "text": [
      "\\begin{tabular}{lrrrrr}\n",
      "\\toprule\n",
      "{} &  tripduration &   birth\\_year &  hour\\_start &  is\\_subscriber &  is\\_female \\\\\n",
      "\\midrule\n",
      "cluster\\_0 &    767.810578 &  1976.950293 &   13.889871 &            1.0 &   0.000000 \\\\\n",
      "cluster\\_1 &    892.278741 &  1978.540183 &   13.903916 &            1.0 &   1.000000 \\\\\n",
      "cluster\\_2 &   2014.201678 &  1977.722717 &   14.490050 &            0.0 &   0.022808 \\\\\n",
      "\\bottomrule\n",
      "\\end{tabular}\n",
      "\n"
     ]
    },
    {
     "name": "stderr",
     "output_type": "stream",
     "text": [
      "C:\\Users\\matth\\AppData\\Local\\Temp\\ipykernel_19156\\293102242.py:1: FutureWarning: In future versions `DataFrame.to_latex` is expected to utilise the base implementation of `Styler.to_latex` for formatting and rendering. The arguments signature may therefore change. It is recommended instead to use `DataFrame.style.to_latex` which also contains additional functionality.\n",
      "  print(all_avg_t.to_latex())\n"
     ]
    }
   ],
   "source": [
    "print(all_avg_t.to_latex())"
   ]
  },
  {
   "cell_type": "code",
   "execution_count": 49,
   "id": "72f5025d",
   "metadata": {},
   "outputs": [
    {
     "name": "stdout",
     "output_type": "stream",
     "text": [
      "\\begin{tabular}{lrrrrr}\n",
      "\\toprule\n",
      "{} &  tripduration &  birth\\_year &  hour\\_start &  is\\_subscriber &     is\\_female \\\\\n",
      "\\midrule\n",
      "0 &      0.000359 &    0.792675 &    0.603907 &   1.000000e+00 &  7.052692e-14 \\\\\n",
      "1 &      0.000423 &    0.806381 &    0.604518 &   1.000000e+00 &  1.000000e+00 \\\\\n",
      "2 &      0.000992 &    0.799334 &    0.630002 &   8.115730e-14 &  2.280769e-02 \\\\\n",
      "\\bottomrule\n",
      "\\end{tabular}\n",
      "\n"
     ]
    },
    {
     "name": "stderr",
     "output_type": "stream",
     "text": [
      "C:\\Users\\matth\\AppData\\Local\\Temp\\ipykernel_19156\\3064159860.py:3: FutureWarning: In future versions `DataFrame.to_latex` is expected to utilise the base implementation of `Styler.to_latex` for formatting and rendering. The arguments signature may therefore change. It is recommended instead to use `DataFrame.style.to_latex` which also contains additional functionality.\n",
      "  print(cluster_centers.to_latex())\n"
     ]
    }
   ],
   "source": [
    "cluster_centers = pd.DataFrame(kmeans.cluster_centers_)\n",
    "cluster_centers.columns = [\"tripduration\", \"birth_year\", \"hour_start\", \"is_subscriber\", \"is_female\"]\n",
    "print(cluster_centers.to_latex())"
   ]
  },
  {
   "cell_type": "code",
   "execution_count": 31,
   "id": "840eed41",
   "metadata": {},
   "outputs": [
    {
     "ename": "KeyboardInterrupt",
     "evalue": "",
     "output_type": "error",
     "traceback": [
      "\u001b[1;31m---------------------------------------------------------------------------\u001b[0m",
      "\u001b[1;31mKeyboardInterrupt\u001b[0m                         Traceback (most recent call last)",
      "Cell \u001b[1;32mIn[31], line 1\u001b[0m\n\u001b[1;32m----> 1\u001b[0m \u001b[38;5;28mprint\u001b[39m(\u001b[43mmetrics\u001b[49m\u001b[38;5;241;43m.\u001b[39;49m\u001b[43msilhouette_score\u001b[49m\u001b[43m(\u001b[49m\u001b[43mno_distances\u001b[49m\u001b[43m,\u001b[49m\u001b[43m \u001b[49m\u001b[43mno_distances_has_labels\u001b[49m\u001b[43m[\u001b[49m\u001b[38;5;124;43m\"\u001b[39;49m\u001b[38;5;124;43mclusters\u001b[39;49m\u001b[38;5;124;43m\"\u001b[39;49m\u001b[43m]\u001b[49m\u001b[43m,\u001b[49m\u001b[43m \u001b[49m\u001b[43mmetric\u001b[49m\u001b[43m \u001b[49m\u001b[38;5;241;43m=\u001b[39;49m\u001b[43m \u001b[49m\u001b[38;5;124;43m\"\u001b[39;49m\u001b[38;5;124;43meuclidean\u001b[39;49m\u001b[38;5;124;43m\"\u001b[39;49m\u001b[43m)\u001b[49m)\n",
      "File \u001b[1;32m~\\anaconda3\\lib\\site-packages\\sklearn\\metrics\\cluster\\_unsupervised.py:117\u001b[0m, in \u001b[0;36msilhouette_score\u001b[1;34m(X, labels, metric, sample_size, random_state, **kwds)\u001b[0m\n\u001b[0;32m    115\u001b[0m     \u001b[38;5;28;01melse\u001b[39;00m:\n\u001b[0;32m    116\u001b[0m         X, labels \u001b[38;5;241m=\u001b[39m X[indices], labels[indices]\n\u001b[1;32m--> 117\u001b[0m \u001b[38;5;28;01mreturn\u001b[39;00m np\u001b[38;5;241m.\u001b[39mmean(silhouette_samples(X, labels, metric\u001b[38;5;241m=\u001b[39mmetric, \u001b[38;5;241m*\u001b[39m\u001b[38;5;241m*\u001b[39mkwds))\n",
      "File \u001b[1;32m~\\anaconda3\\lib\\site-packages\\sklearn\\metrics\\cluster\\_unsupervised.py:233\u001b[0m, in \u001b[0;36msilhouette_samples\u001b[1;34m(X, labels, metric, **kwds)\u001b[0m\n\u001b[0;32m    229\u001b[0m kwds[\u001b[38;5;124m\"\u001b[39m\u001b[38;5;124mmetric\u001b[39m\u001b[38;5;124m\"\u001b[39m] \u001b[38;5;241m=\u001b[39m metric\n\u001b[0;32m    230\u001b[0m reduce_func \u001b[38;5;241m=\u001b[39m functools\u001b[38;5;241m.\u001b[39mpartial(\n\u001b[0;32m    231\u001b[0m     _silhouette_reduce, labels\u001b[38;5;241m=\u001b[39mlabels, label_freqs\u001b[38;5;241m=\u001b[39mlabel_freqs\n\u001b[0;32m    232\u001b[0m )\n\u001b[1;32m--> 233\u001b[0m results \u001b[38;5;241m=\u001b[39m \u001b[38;5;28;43mzip\u001b[39;49m\u001b[43m(\u001b[49m\u001b[38;5;241;43m*\u001b[39;49m\u001b[43mpairwise_distances_chunked\u001b[49m\u001b[43m(\u001b[49m\u001b[43mX\u001b[49m\u001b[43m,\u001b[49m\u001b[43m \u001b[49m\u001b[43mreduce_func\u001b[49m\u001b[38;5;241;43m=\u001b[39;49m\u001b[43mreduce_func\u001b[49m\u001b[43m,\u001b[49m\u001b[43m \u001b[49m\u001b[38;5;241;43m*\u001b[39;49m\u001b[38;5;241;43m*\u001b[39;49m\u001b[43mkwds\u001b[49m\u001b[43m)\u001b[49m\u001b[43m)\u001b[49m\n\u001b[0;32m    234\u001b[0m intra_clust_dists, inter_clust_dists \u001b[38;5;241m=\u001b[39m results\n\u001b[0;32m    235\u001b[0m intra_clust_dists \u001b[38;5;241m=\u001b[39m np\u001b[38;5;241m.\u001b[39mconcatenate(intra_clust_dists)\n",
      "File \u001b[1;32m~\\anaconda3\\lib\\site-packages\\sklearn\\metrics\\pairwise.py:1726\u001b[0m, in \u001b[0;36mpairwise_distances_chunked\u001b[1;34m(X, Y, reduce_func, metric, n_jobs, working_memory, **kwds)\u001b[0m\n\u001b[0;32m   1724\u001b[0m \u001b[38;5;28;01mif\u001b[39;00m reduce_func \u001b[38;5;129;01mis\u001b[39;00m \u001b[38;5;129;01mnot\u001b[39;00m \u001b[38;5;28;01mNone\u001b[39;00m:\n\u001b[0;32m   1725\u001b[0m     chunk_size \u001b[38;5;241m=\u001b[39m D_chunk\u001b[38;5;241m.\u001b[39mshape[\u001b[38;5;241m0\u001b[39m]\n\u001b[1;32m-> 1726\u001b[0m     D_chunk \u001b[38;5;241m=\u001b[39m \u001b[43mreduce_func\u001b[49m\u001b[43m(\u001b[49m\u001b[43mD_chunk\u001b[49m\u001b[43m,\u001b[49m\u001b[43m \u001b[49m\u001b[43msl\u001b[49m\u001b[38;5;241;43m.\u001b[39;49m\u001b[43mstart\u001b[49m\u001b[43m)\u001b[49m\n\u001b[0;32m   1727\u001b[0m     _check_chunk_size(D_chunk, chunk_size)\n\u001b[0;32m   1728\u001b[0m \u001b[38;5;28;01myield\u001b[39;00m D_chunk\n",
      "File \u001b[1;32m~\\anaconda3\\lib\\site-packages\\sklearn\\metrics\\cluster\\_unsupervised.py:137\u001b[0m, in \u001b[0;36m_silhouette_reduce\u001b[1;34m(D_chunk, start, labels, label_freqs)\u001b[0m\n\u001b[0;32m    135\u001b[0m clust_dists \u001b[38;5;241m=\u001b[39m np\u001b[38;5;241m.\u001b[39mzeros((\u001b[38;5;28mlen\u001b[39m(D_chunk), \u001b[38;5;28mlen\u001b[39m(label_freqs)), dtype\u001b[38;5;241m=\u001b[39mD_chunk\u001b[38;5;241m.\u001b[39mdtype)\n\u001b[0;32m    136\u001b[0m \u001b[38;5;28;01mfor\u001b[39;00m i \u001b[38;5;129;01min\u001b[39;00m \u001b[38;5;28mrange\u001b[39m(\u001b[38;5;28mlen\u001b[39m(D_chunk)):\n\u001b[1;32m--> 137\u001b[0m     clust_dists[i] \u001b[38;5;241m+\u001b[39m\u001b[38;5;241m=\u001b[39m \u001b[43mnp\u001b[49m\u001b[38;5;241;43m.\u001b[39;49m\u001b[43mbincount\u001b[49m\u001b[43m(\u001b[49m\n\u001b[0;32m    138\u001b[0m \u001b[43m        \u001b[49m\u001b[43mlabels\u001b[49m\u001b[43m,\u001b[49m\u001b[43m \u001b[49m\u001b[43mweights\u001b[49m\u001b[38;5;241;43m=\u001b[39;49m\u001b[43mD_chunk\u001b[49m\u001b[43m[\u001b[49m\u001b[43mi\u001b[49m\u001b[43m]\u001b[49m\u001b[43m,\u001b[49m\u001b[43m \u001b[49m\u001b[43mminlength\u001b[49m\u001b[38;5;241;43m=\u001b[39;49m\u001b[38;5;28;43mlen\u001b[39;49m\u001b[43m(\u001b[49m\u001b[43mlabel_freqs\u001b[49m\u001b[43m)\u001b[49m\n\u001b[0;32m    139\u001b[0m \u001b[43m    \u001b[49m\u001b[43m)\u001b[49m\n\u001b[0;32m    141\u001b[0m \u001b[38;5;66;03m# intra_index selects intra-cluster distances within clust_dists\u001b[39;00m\n\u001b[0;32m    142\u001b[0m intra_index \u001b[38;5;241m=\u001b[39m (np\u001b[38;5;241m.\u001b[39marange(\u001b[38;5;28mlen\u001b[39m(D_chunk)), labels[start : start \u001b[38;5;241m+\u001b[39m \u001b[38;5;28mlen\u001b[39m(D_chunk)])\n",
      "File \u001b[1;32m<__array_function__ internals>:5\u001b[0m, in \u001b[0;36mbincount\u001b[1;34m(*args, **kwargs)\u001b[0m\n",
      "\u001b[1;31mKeyboardInterrupt\u001b[0m: "
     ]
    }
   ],
   "source": [
    "## print(metrics.silhouette_score(no_distances, no_distances_has_labels[\"clusters\"], metric = \"euclidean\"))"
   ]
  }
 ],
 "metadata": {
  "kernelspec": {
   "display_name": "Python 3 (ipykernel)",
   "language": "python",
   "name": "python3"
  },
  "language_info": {
   "codemirror_mode": {
    "name": "ipython",
    "version": 3
   },
   "file_extension": ".py",
   "mimetype": "text/x-python",
   "name": "python",
   "nbconvert_exporter": "python",
   "pygments_lexer": "ipython3",
   "version": "3.9.12"
  }
 },
 "nbformat": 4,
 "nbformat_minor": 5
}
